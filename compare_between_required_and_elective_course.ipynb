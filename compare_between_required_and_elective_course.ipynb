{
  "nbformat": 4,
  "nbformat_minor": 0,
  "metadata": {
    "colab": {
      "provenance": [],
      "authorship_tag": "ABX9TyOIB9KKK79KulD216Pt2GWl",
      "include_colab_link": true
    },
    "kernelspec": {
      "name": "python3",
      "display_name": "Python 3"
    },
    "language_info": {
      "name": "python"
    }
  },
  "cells": [
    {
      "cell_type": "markdown",
      "metadata": {
        "id": "view-in-github",
        "colab_type": "text"
      },
      "source": [
        "<a href=\"https://colab.research.google.com/github/JackyYang27/data-science-and-big-data/blob/main/compare_between_required_and_elective_course.ipynb\" target=\"_parent\"><img src=\"https://colab.research.google.com/assets/colab-badge.svg\" alt=\"Open In Colab\"/></a>"
      ]
    },
    {
      "cell_type": "code",
      "execution_count": 16,
      "metadata": {
        "colab": {
          "base_uri": "https://localhost:8080/"
        },
        "id": "ONX9yPpwJL1C",
        "outputId": "d2ff40a3-20ea-4320-e123-bb391b153e10"
      },
      "outputs": [
        {
          "output_type": "stream",
          "name": "stderr",
          "text": [
            "<ipython-input-16-397cf5fa2d76>:35: SettingWithCopyWarning: \n",
            "A value is trying to be set on a copy of a slice from a DataFrame.\n",
            "Try using .loc[row_indexer,col_indexer] = value instead\n",
            "\n",
            "See the caveats in the documentation: https://pandas.pydata.org/pandas-docs/stable/user_guide/indexing.html#returning-a-view-versus-a-copy\n",
            "  df_filtered_1['學期-班一般人數'] = pd.to_numeric(df_filtered_1['學期-班一般人數'], errors='coerce')\n"
          ]
        },
        {
          "output_type": "stream",
          "name": "stdout",
          "text": [
            "1021(01) 學期 - 前5%學生平均成績：\n",
            "必修科目加權平均成績: 90.36\n",
            "選修和通識科目加權平均成績: 89.42\n"
          ]
        },
        {
          "output_type": "stream",
          "name": "stderr",
          "text": [
            "<ipython-input-16-397cf5fa2d76>:35: SettingWithCopyWarning: \n",
            "A value is trying to be set on a copy of a slice from a DataFrame.\n",
            "Try using .loc[row_indexer,col_indexer] = value instead\n",
            "\n",
            "See the caveats in the documentation: https://pandas.pydata.org/pandas-docs/stable/user_guide/indexing.html#returning-a-view-versus-a-copy\n",
            "  df_filtered_1['學期-班一般人數'] = pd.to_numeric(df_filtered_1['學期-班一般人數'], errors='coerce')\n"
          ]
        },
        {
          "output_type": "stream",
          "name": "stdout",
          "text": [
            "1022(01) 學期 - 前5%學生平均成績：\n",
            "必修科目加權平均成績: 91.05\n",
            "選修和通識科目加權平均成績: 90.34\n"
          ]
        },
        {
          "output_type": "stream",
          "name": "stderr",
          "text": [
            "<ipython-input-16-397cf5fa2d76>:35: SettingWithCopyWarning: \n",
            "A value is trying to be set on a copy of a slice from a DataFrame.\n",
            "Try using .loc[row_indexer,col_indexer] = value instead\n",
            "\n",
            "See the caveats in the documentation: https://pandas.pydata.org/pandas-docs/stable/user_guide/indexing.html#returning-a-view-versus-a-copy\n",
            "  df_filtered_1['學期-班一般人數'] = pd.to_numeric(df_filtered_1['學期-班一般人數'], errors='coerce')\n"
          ]
        },
        {
          "output_type": "stream",
          "name": "stdout",
          "text": [
            "1031(01) 學期 - 前5%學生平均成績：\n",
            "必修科目加權平均成績: 90.37\n",
            "選修和通識科目加權平均成績: 89.52\n"
          ]
        },
        {
          "output_type": "stream",
          "name": "stderr",
          "text": [
            "<ipython-input-16-397cf5fa2d76>:35: SettingWithCopyWarning: \n",
            "A value is trying to be set on a copy of a slice from a DataFrame.\n",
            "Try using .loc[row_indexer,col_indexer] = value instead\n",
            "\n",
            "See the caveats in the documentation: https://pandas.pydata.org/pandas-docs/stable/user_guide/indexing.html#returning-a-view-versus-a-copy\n",
            "  df_filtered_1['學期-班一般人數'] = pd.to_numeric(df_filtered_1['學期-班一般人數'], errors='coerce')\n"
          ]
        },
        {
          "output_type": "stream",
          "name": "stdout",
          "text": [
            "1032(01) 學期 - 前5%學生平均成績：\n",
            "必修科目加權平均成績: 90.83\n",
            "選修和通識科目加權平均成績: 90.14\n"
          ]
        },
        {
          "output_type": "stream",
          "name": "stderr",
          "text": [
            "<ipython-input-16-397cf5fa2d76>:35: SettingWithCopyWarning: \n",
            "A value is trying to be set on a copy of a slice from a DataFrame.\n",
            "Try using .loc[row_indexer,col_indexer] = value instead\n",
            "\n",
            "See the caveats in the documentation: https://pandas.pydata.org/pandas-docs/stable/user_guide/indexing.html#returning-a-view-versus-a-copy\n",
            "  df_filtered_1['學期-班一般人數'] = pd.to_numeric(df_filtered_1['學期-班一般人數'], errors='coerce')\n"
          ]
        },
        {
          "output_type": "stream",
          "name": "stdout",
          "text": [
            "1041(01) 學期 - 前5%學生平均成績：\n",
            "必修科目加權平均成績: 90.17\n",
            "選修和通識科目加權平均成績: 89.80\n"
          ]
        },
        {
          "output_type": "stream",
          "name": "stderr",
          "text": [
            "<ipython-input-16-397cf5fa2d76>:35: SettingWithCopyWarning: \n",
            "A value is trying to be set on a copy of a slice from a DataFrame.\n",
            "Try using .loc[row_indexer,col_indexer] = value instead\n",
            "\n",
            "See the caveats in the documentation: https://pandas.pydata.org/pandas-docs/stable/user_guide/indexing.html#returning-a-view-versus-a-copy\n",
            "  df_filtered_1['學期-班一般人數'] = pd.to_numeric(df_filtered_1['學期-班一般人數'], errors='coerce')\n"
          ]
        },
        {
          "output_type": "stream",
          "name": "stdout",
          "text": [
            "1042(01) 學期 - 前5%學生平均成績：\n",
            "必修科目加權平均成績: 91.54\n",
            "選修和通識科目加權平均成績: 90.68\n"
          ]
        },
        {
          "output_type": "stream",
          "name": "stderr",
          "text": [
            "<ipython-input-16-397cf5fa2d76>:35: SettingWithCopyWarning: \n",
            "A value is trying to be set on a copy of a slice from a DataFrame.\n",
            "Try using .loc[row_indexer,col_indexer] = value instead\n",
            "\n",
            "See the caveats in the documentation: https://pandas.pydata.org/pandas-docs/stable/user_guide/indexing.html#returning-a-view-versus-a-copy\n",
            "  df_filtered_1['學期-班一般人數'] = pd.to_numeric(df_filtered_1['學期-班一般人數'], errors='coerce')\n"
          ]
        },
        {
          "output_type": "stream",
          "name": "stdout",
          "text": [
            "1051(01) 學期 - 前5%學生平均成績：\n",
            "必修科目加權平均成績: 90.47\n",
            "選修和通識科目加權平均成績: 89.87\n"
          ]
        },
        {
          "output_type": "stream",
          "name": "stderr",
          "text": [
            "<ipython-input-16-397cf5fa2d76>:35: SettingWithCopyWarning: \n",
            "A value is trying to be set on a copy of a slice from a DataFrame.\n",
            "Try using .loc[row_indexer,col_indexer] = value instead\n",
            "\n",
            "See the caveats in the documentation: https://pandas.pydata.org/pandas-docs/stable/user_guide/indexing.html#returning-a-view-versus-a-copy\n",
            "  df_filtered_1['學期-班一般人數'] = pd.to_numeric(df_filtered_1['學期-班一般人數'], errors='coerce')\n"
          ]
        },
        {
          "output_type": "stream",
          "name": "stdout",
          "text": [
            "1052(01) 學期 - 前5%學生平均成績：\n",
            "必修科目加權平均成績: 92.27\n",
            "選修和通識科目加權平均成績: 90.99\n"
          ]
        },
        {
          "output_type": "stream",
          "name": "stderr",
          "text": [
            "<ipython-input-16-397cf5fa2d76>:35: SettingWithCopyWarning: \n",
            "A value is trying to be set on a copy of a slice from a DataFrame.\n",
            "Try using .loc[row_indexer,col_indexer] = value instead\n",
            "\n",
            "See the caveats in the documentation: https://pandas.pydata.org/pandas-docs/stable/user_guide/indexing.html#returning-a-view-versus-a-copy\n",
            "  df_filtered_1['學期-班一般人數'] = pd.to_numeric(df_filtered_1['學期-班一般人數'], errors='coerce')\n"
          ]
        },
        {
          "output_type": "stream",
          "name": "stdout",
          "text": [
            "1061(01) 學期 - 前5%學生平均成績：\n",
            "必修科目加權平均成績: 90.14\n",
            "選修和通識科目加權平均成績: 90.16\n"
          ]
        },
        {
          "output_type": "stream",
          "name": "stderr",
          "text": [
            "<ipython-input-16-397cf5fa2d76>:35: SettingWithCopyWarning: \n",
            "A value is trying to be set on a copy of a slice from a DataFrame.\n",
            "Try using .loc[row_indexer,col_indexer] = value instead\n",
            "\n",
            "See the caveats in the documentation: https://pandas.pydata.org/pandas-docs/stable/user_guide/indexing.html#returning-a-view-versus-a-copy\n",
            "  df_filtered_1['學期-班一般人數'] = pd.to_numeric(df_filtered_1['學期-班一般人數'], errors='coerce')\n"
          ]
        },
        {
          "output_type": "stream",
          "name": "stdout",
          "text": [
            "1062(01) 學期 - 前5%學生平均成績：\n",
            "必修科目加權平均成績: 91.89\n",
            "選修和通識科目加權平均成績: 89.80\n"
          ]
        },
        {
          "output_type": "stream",
          "name": "stderr",
          "text": [
            "<ipython-input-16-397cf5fa2d76>:35: SettingWithCopyWarning: \n",
            "A value is trying to be set on a copy of a slice from a DataFrame.\n",
            "Try using .loc[row_indexer,col_indexer] = value instead\n",
            "\n",
            "See the caveats in the documentation: https://pandas.pydata.org/pandas-docs/stable/user_guide/indexing.html#returning-a-view-versus-a-copy\n",
            "  df_filtered_1['學期-班一般人數'] = pd.to_numeric(df_filtered_1['學期-班一般人數'], errors='coerce')\n"
          ]
        },
        {
          "output_type": "stream",
          "name": "stdout",
          "text": [
            "1071(01) 學期 - 前5%學生平均成績：\n",
            "必修科目加權平均成績: 91.25\n",
            "選修和通識科目加權平均成績: 90.67\n"
          ]
        },
        {
          "output_type": "stream",
          "name": "stderr",
          "text": [
            "<ipython-input-16-397cf5fa2d76>:35: SettingWithCopyWarning: \n",
            "A value is trying to be set on a copy of a slice from a DataFrame.\n",
            "Try using .loc[row_indexer,col_indexer] = value instead\n",
            "\n",
            "See the caveats in the documentation: https://pandas.pydata.org/pandas-docs/stable/user_guide/indexing.html#returning-a-view-versus-a-copy\n",
            "  df_filtered_1['學期-班一般人數'] = pd.to_numeric(df_filtered_1['學期-班一般人數'], errors='coerce')\n"
          ]
        },
        {
          "output_type": "stream",
          "name": "stdout",
          "text": [
            "1072(01) 學期 - 前5%學生平均成績：\n",
            "必修科目加權平均成績: 92.37\n",
            "選修和通識科目加權平均成績: 91.16\n"
          ]
        }
      ],
      "source": [
        "import pandas as pd\n",
        "import numpy as np\n",
        "import matplotlib.pyplot as plt\n",
        "from scipy.stats import chi2_contingency\n",
        "\n",
        "# 學期代碼列表\n",
        "semesters = [\n",
        "    \"1021(01)\", \"1022(01)\", \"1031(01)\", \"1032(01)\", \"1041(01)\", \"1042(01)\",\n",
        "    \"1051(01)\", \"1052(01)\", \"1061(01)\", \"1062(01)\", \"1071(01)\", \"1072(01)\"\n",
        "]\n",
        "\n",
        "# 部門列表\n",
        "departments = ['資訊管理學系', '文學院學士班', '中國文學系', '英美語文學系', '法國語文學系',\n",
        "    '理學院學士班', '物理學系', '數學系', '化學學系', '光電科學與工程學系',\n",
        "    '工學院學士班', '化學工程與材料工程學系', '土木工程學系', '機械工程學系',\n",
        "    '企業管理學系', '資訊管理學系', '財務金融學系', '經濟學系',\n",
        "    '資訊電機學院學士班', '電機工程學系', '資訊工程學系', '通訊工程學系',\n",
        "    '地球科學學院學士班', '地球科學學系', '大氣科學學系', '太空科學與工程學系',\n",
        "    '客家語文暨社會科學學系', '生命科學系', '生醫科學與工程學系']\n",
        "\n",
        "# 定義加權平均函數\n",
        "def weighted_average(df, course_type):\n",
        "    relevant_courses = df[(df['課程屬性名稱'] == course_type)]\n",
        "    if not relevant_courses.empty:\n",
        "        return (relevant_courses['成績'] * relevant_courses['學分數']).sum() / relevant_courses['學分數'].sum()\n",
        "    else:\n",
        "        return np.nan\n",
        "\n",
        "# 遍歷每個學期進行分析\n",
        "for semester in semesters:\n",
        "    # 讀取學生平均成績數據\n",
        "    url_1 = f\"https://raw.githubusercontent.com/JackyYang27/data-science-and-big-data/main/dataset/112-0004_%E6%A0%A1%E5%8B%99%E6%8B%8B%E8%BD%89%E8%B3%87%E6%96%99_%E5%AD%B8%E7%94%9F%E5%AD%B8%E6%9C%9F%E5%B9%B3%E5%9D%87%E6%88%90%E7%B8%BE_{semester}.csv\"\n",
        "    df_1 = pd.read_csv(url_1)\n",
        "    df_filtered_1 = df_1[df_1['系所名稱'].isin(departments)]\n",
        "    df_filtered_1['學期-班一般人數'] = pd.to_numeric(df_filtered_1['學期-班一般人數'], errors='coerce')\n",
        "    df_filtered_1 = df_filtered_1.dropna(subset=['學期-班一般人數', '學期-班一般名次'])\n",
        "\n",
        "    # 初始化數據框架\n",
        "    top_students = pd.DataFrame()\n",
        "\n",
        "    # 分組並識別前5%的學生\n",
        "    for (dept, year_class), group in df_filtered_1.groupby(['系所名稱', '年級班別']):\n",
        "        percentile_5 = max(int(round(len(group) * 0.05)), 1)\n",
        "        top_students_in_group = group.nsmallest(percentile_5, '學期-班一般名次')\n",
        "\n",
        "        top_students = pd.concat([top_students, top_students_in_group], ignore_index=True)\n",
        "\n",
        "    # 獲取前5%學生的學號列表\n",
        "    top_student_ids = top_students['學號'].tolist()\n",
        "\n",
        "    # 讀取選課資料\n",
        "    url_2 = f\"https://raw.githubusercontent.com/JackyYang27/data-science-and-big-data/main/dataset/112-0004_%E6%A0%A1%E5%8B%99%E6%8B%8B%E8%BD%89%E8%B3%87%E6%96%99_%E5%AD%B8%E7%94%9F%E9%81%B8%E8%AA%B2%E6%88%90%E7%B8%BE%E8%B3%87%E6%96%99_{semester}.csv\"\n",
        "    df_2 = pd.read_csv(url_2)\n",
        "\n",
        "    # 篩選出前5%學生的選課資料\n",
        "    selected_courses_top = df_2[df_2['學號'].isin(top_student_ids)]\n",
        "\n",
        "    # 計算必修科目的加權平均成績\n",
        "    required_course_average = weighted_average(selected_courses_top, '必修')\n",
        "\n",
        "    # 計算選修和通識科目的加權平均成績\n",
        "    elective_course_average = weighted_average(selected_courses_top, '選修')\n",
        "    general_course_average = weighted_average(selected_courses_top, '通識')\n",
        "\n",
        "    elective_and_general_average = np.nanmean([elective_course_average, general_course_average])\n",
        "\n",
        "    # 輸出結果\n",
        "    print(f\"{semester} 學期 - 前5%學生平均成績：\")\n",
        "    print(f\"必修科目加權平均成績: {required_course_average:.2f}\")\n",
        "    print(f\"選修和通識科目加權平均成績: {elective_and_general_average:.2f}\")\n"
      ]
    },
    {
      "cell_type": "code",
      "source": [
        "import pandas as pd\n",
        "import numpy as np\n",
        "\n",
        "# 定義加權平均函數\n",
        "def weighted_average(df):\n",
        "    if not df.empty:\n",
        "        return (df['成績'] * df['學分數']).sum() / df['學分數'].sum()\n",
        "    else:\n",
        "        return np.nan\n",
        "\n",
        "# 學期代碼列表\n",
        "semesters = [\"1021(01)\"]\n",
        "\n",
        "# 部門列表\n",
        "departments = ['企業管理學系']\n",
        "\n",
        "# 遍歷每個學期進行分析\n",
        "for semester in semesters:\n",
        "    # 讀取學生平均成績數據和選課資料\n",
        "    url_1 = f\"https://raw.githubusercontent.com/JackyYang27/data-science-and-big-data/main/dataset/112-0004_%E6%A0%A1%E5%8B%99%E6%8B%8B%E8%BD%89%E8%B3%87%E6%96%99_%E5%AD%B8%E7%94%9F%E5%AD%B8%E6%9C%9F%E5%B9%B3%E5%9D%87%E6%88%90%E7%B8%BE_{semester}.csv\"\n",
        "    df_1 = pd.read_csv(url_1)\n",
        "    df_filtered_1 = df_1[df_1['系所名稱'].isin(departments)]\n",
        "    df_filtered_1['學期-班一般人數'] = pd.to_numeric(df_filtered_1['學期-班一般人數'], errors='coerce')\n",
        "    df_filtered_1 = df_filtered_1.dropna(subset=['學期-班一般人數', '學期-班一般名次'])\n",
        "\n",
        "    url_2 = f\"https://raw.githubusercontent.com/JackyYang27/data-science-and-big-data/main/dataset/112-0004_%E6%A0%A1%E5%8B%99%E6%8B%8B%E8%BD%89%E8%B3%87%E6%96%99_%E5%AD%B8%E7%94%9F%E9%81%B8%E8%AA%B2%E6%88%90%E7%B8%BE%E8%B3%87%E6%96%99_{semester}.csv\"\n",
        "    df_2 = pd.read_csv(url_2)\n",
        "\n",
        "    # 篩選前5%的學生\n",
        "    top_students = pd.DataFrame()\n",
        "    for (dept, year_class), group in df_filtered_1.groupby(['系所名稱', '年級班別']):\n",
        "        percentile_5 = max(int(round(len(group) * 0.05)), 1)\n",
        "        top_students_in_group = group.nsmallest(percentile_5, '學期-班一般名次')\n",
        "        top_students = pd.concat([top_students, top_students_in_group], ignore_index=True)\n",
        "\n",
        "    top_student_ids = top_students['學號'].tolist()\n",
        "\n",
        "    # 針對每位學生計算加權平均成績\n",
        "    for student_id in top_student_ids:\n",
        "        student_courses = df_2[df_2['學號'] == student_id]\n",
        "        required_courses = student_courses[student_courses['課程屬性名稱'] == '必修']\n",
        "        elective_courses = student_courses[student_courses['課程屬性名稱'] == '選修']\n",
        "        general_courses = student_courses[student_courses['課程屬性名稱'] == '通識']\n",
        "\n",
        "        required_average = weighted_average(required_courses)\n",
        "        elective_and_general_average = weighted_average(pd.concat([elective_courses, general_courses]))\n",
        "\n",
        "        print(f\"學號: {student_id}\")\n",
        "        print(f\"必修科目加權平均成績: {required_average:.2f}\")\n",
        "        print(f\"選修和通識科目加權平均成績: {elective_and_general_average:.2f}\")\n",
        "\n"
      ],
      "metadata": {
        "colab": {
          "base_uri": "https://localhost:8080/"
        },
        "id": "bslvjHeAubHO",
        "outputId": "7e2ac798-b2b7-46b0-fe0c-1df98771cca4"
      },
      "execution_count": 17,
      "outputs": [
        {
          "output_type": "stream",
          "name": "stderr",
          "text": [
            "<ipython-input-17-d0b1e5d0132b>:23: SettingWithCopyWarning: \n",
            "A value is trying to be set on a copy of a slice from a DataFrame.\n",
            "Try using .loc[row_indexer,col_indexer] = value instead\n",
            "\n",
            "See the caveats in the documentation: https://pandas.pydata.org/pandas-docs/stable/user_guide/indexing.html#returning-a-view-versus-a-copy\n",
            "  df_filtered_1['學期-班一般人數'] = pd.to_numeric(df_filtered_1['學期-班一般人數'], errors='coerce')\n"
          ]
        },
        {
          "output_type": "stream",
          "name": "stdout",
          "text": [
            "學號: 9e3b9ef3f225ac16afb81d2e0ea34ee51644ed6774850b7d3b54c6cb3d639622\n",
            "必修科目加權平均成績: 93.75\n",
            "選修和通識科目加權平均成績: 92.00\n",
            "學號: 6e86aa4d8503522c57ea2d3a3aa196d057a8d593d7fd31450c89e54dfe97c453\n",
            "必修科目加權平均成績: 92.14\n",
            "選修和通識科目加權平均成績: 82.00\n",
            "學號: a286d34cdab17620b55cf38bb37002e3cba719d37c49ffb27df207a9125948cc\n",
            "必修科目加權平均成績: 89.43\n",
            "選修和通識科目加權平均成績: 89.00\n",
            "學號: 02808c7ec1c82aac497c6f34180dfc8e28133a074e2e89532d3999b872da3412\n",
            "必修科目加權平均成績: 95.57\n",
            "選修和通識科目加權平均成績: 87.00\n",
            "學號: 13d4d271779097e496d628f8aea7dc7346d58aa2ff77282aaac9a149f04de7a2\n",
            "必修科目加權平均成績: 90.86\n",
            "選修和通識科目加權平均成績: 88.60\n",
            "學號: c00ba5d2b3e00fa51b2d0993d0896037b2e0e2b48995b070d047a3ec94a2436b\n",
            "必修科目加權平均成績: 92.29\n",
            "選修和通識科目加權平均成績: 82.60\n",
            "學號: 243e0b67bd85ae3308482494f58295ae1f58ec775da2003b5fc01980aeff1f23\n",
            "必修科目加權平均成績: 92.40\n",
            "選修和通識科目加權平均成績: 93.50\n",
            "學號: e150c3245190537b4ac25f62902770d3c198939f84a7b7101612eb96879e0c08\n",
            "必修科目加權平均成績: 91.00\n",
            "選修和通識科目加權平均成績: 92.00\n",
            "學號: 61d27073c4f006fc35816ed1bb490ef17070647c6f238aeb813b7ea13a916477\n",
            "必修科目加權平均成績: 91.14\n",
            "選修和通識科目加權平均成績: nan\n",
            "學號: cae5d2b9b933b9b6afe043254177eba0608d9c8990db0295bb4f42f0efeb1f40\n",
            "必修科目加權平均成績: 91.40\n",
            "選修和通識科目加權平均成績: 84.00\n",
            "學號: a006f9da3ced4515ccd886f9d2ac242ea1fc547fdfea799d0921d4214d226231\n",
            "必修科目加權平均成績: 89.20\n",
            "選修和通識科目加權平均成績: 92.10\n",
            "學號: 934a8fe318c7559def29b1334733681dd6e6753e2441957663bbcad6d9d6a5fb\n",
            "必修科目加權平均成績: 74.00\n",
            "選修和通識科目加權平均成績: 89.00\n",
            "學號: 94b1b0391f834f43c1d713a468e2cad63f67b44b4de8165f3e685e14498c76e0\n",
            "必修科目加權平均成績: 97.00\n",
            "選修和通識科目加權平均成績: 93.73\n",
            "學號: 1bc07a6b2e2c543572cc7c9df8659d80f88ea29d5f714814b16091b33dcf5e41\n",
            "必修科目加權平均成績: 95.50\n",
            "選修和通識科目加權平均成績: 94.60\n",
            "學號: 5394e1e5505c5c5084a1e5137481cf6752856f01f10770748ed5e47f72f7726e\n",
            "必修科目加權平均成績: 93.33\n",
            "選修和通識科目加權平均成績: 92.36\n",
            "學號: 61bdba8b55bc568a56e23a2fdbdfe3f4d25d6be9d3d61e19bc7803548350dad9\n",
            "必修科目加權平均成績: 92.25\n",
            "選修和通識科目加權平均成績: 94.46\n",
            "學號: 028f99005f64ed254f6f87a40aa70bab0fc854b151973774f7c49f322e8c9812\n",
            "必修科目加權平均成績: 89.00\n",
            "選修和通識科目加權平均成績: 94.38\n",
            "學號: daf16fc0637fca1987ab4c177dc37baea936197d1704ff1eedd68318b1944a69\n",
            "必修科目加權平均成績: 95.50\n",
            "選修和通識科目加權平均成績: 89.79\n",
            "學號: 354d52ee19be3c125cf76061d75dae466f2c214a68c2343e38238424fa056972\n",
            "必修科目加權平均成績: 85.00\n",
            "選修和通識科目加權平均成績: 94.50\n",
            "學號: 5fdb182da43124411dee1832448cf7c30bc1aef27c9f7e8279c6158bbf71743e\n",
            "必修科目加權平均成績: 89.00\n",
            "選修和通識科目加權平均成績: 92.40\n",
            "學號: 2648d56a60f7ff6ed789fe5e8f09c08b5f79aee1158ba5746edbed344fdf7a23\n",
            "必修科目加權平均成績: 87.00\n",
            "選修和通識科目加權平均成績: 90.50\n",
            "學號: de8da3d5b8447d30ad0509e90dbadbf38e41ab75f0e1b5463b385a0947fbed94\n",
            "必修科目加權平均成績: 88.62\n",
            "選修和通識科目加權平均成績: 96.50\n",
            "學號: 71a3703daf65a9661d73a463ddfae24f2e3e357d3d85b71468e138a63e835353\n",
            "必修科目加權平均成績: 90.00\n",
            "選修和通識科目加權平均成績: 91.00\n",
            "學號: 604c5f5b8d6101492472003850d6563ee2da0e040833aed88e4a714f80a7d200\n",
            "必修科目加權平均成績: 74.00\n",
            "選修和通識科目加權平均成績: 98.00\n"
          ]
        }
      ]
    },
    {
      "cell_type": "code",
      "source": [
        "import pandas as pd\n",
        "import numpy as np\n",
        "\n",
        "# 定義加權平均函數\n",
        "def weighted_average(df):\n",
        "    if not df.empty:\n",
        "        return (df['成績'] * df['學分數']).sum() / df['學分數'].sum()\n",
        "    else:\n",
        "        return np.nan\n",
        "\n",
        "# 學期代碼列表\n",
        "semesters = [\"1021(01)\", \"1022(01)\", \"1031(01)\", \"1032(01)\", \"1041(01)\", \"1042(01)\",\n",
        "    \"1051(01)\", \"1052(01)\", \"1061(01)\", \"1062(01)\", \"1071(01)\", \"1072(01)\"]\n",
        "\n",
        "# 部門列表\n",
        "departments = ['資訊管理學系', '文學院學士班', '中國文學系', '英美語文學系', '法國語文學系',\n",
        "    '理學院學士班', '物理學系', '數學系', '化學學系', '光電科學與工程學系',\n",
        "    '工學院學士班', '化學工程與材料工程學系', '土木工程學系', '機械工程學系']\n",
        "\n",
        "# 計數器\n",
        "total_top_5_percent_students = 0\n",
        "count_required_higher = 0\n",
        "\n",
        "# 遍歷每個學期進行分析\n",
        "for semester in semesters:\n",
        "    for department in departments:\n",
        "        # 讀取學生平均成績數據和選課資料\n",
        "        url_1 = f\"https://raw.githubusercontent.com/JackyYang27/data-science-and-big-data/main/dataset/112-0004_%E6%A0%A1%E5%8B%99%E6%8B%8B%E8%BD%89%E8%B3%87%E6%96%99_%E5%AD%B8%E7%94%9F%E5%AD%B8%E6%9C%9F%E5%B9%B3%E5%9D%87%E6%88%90%E7%B8%BE_{semester}.csv\"\n",
        "        df_1 = pd.read_csv(url_1)\n",
        "\n",
        "        if '學號' not in df_1.columns:\n",
        "            print(f\"Column '學號' does not exist in the dataset for semester {semester} and department {department}.\")\n",
        "            continue\n",
        "\n",
        "        df_filtered_1 = df_1.loc[df_1['系所名稱'] == department].copy()\n",
        "        df_filtered_1['學期-班一般人數'] = pd.to_numeric(df_filtered_1['學期-班一般人數'], errors='coerce').fillna(0)\n",
        "\n",
        "        url_2 = f\"https://raw.githubusercontent.com/JackyYang27/data-science-and-big-data/main/dataset/112-0004_%E6%A0%A1%E5%8B%99%E6%8B%8B%E8%BD%89%E8%B3%87%E6%96%99_%E5%AD%B8%E7%94%9F%E9%81%B8%E8%AA%B2%E6%88%90%E7%B8%BE%E8%B3%87%E6%96%99_{semester}.csv\"\n",
        "        df_2 = pd.read_csv(url_2)\n",
        "\n",
        "        # 篩選前5%的學生\n",
        "        top_students = pd.DataFrame()\n",
        "        for (dept, year_class), group in df_filtered_1.groupby(['系所名稱', '年級班別']):\n",
        "            percentile_5 = max(int(np.ceil(len(group) * 0.05)), 1)\n",
        "            top_students_in_group = group.nsmallest(percentile_5, '學期-班一般名次')\n",
        "            top_students = pd.concat([top_students, top_students_in_group], ignore_index=True)\n",
        "\n",
        "        # 更新5%以內學生總人數\n",
        "        total_top_5_percent_students += len(top_students)\n",
        "\n",
        "        # 確保學號列存在\n",
        "        if '學號' in top_students.columns:\n",
        "            top_student_ids = top_students['學號'].tolist()\n",
        "\n",
        "            # 針對每位學生計算加權平均成績\n",
        "            for student_id in top_student_ids:\n",
        "                student_courses = df_2[df_2['學號'] == student_id]\n",
        "                required_courses = student_courses[student_courses['課程屬性名稱'] == '必修']\n",
        "                elective_courses = student_courses[student_courses['課程屬性名稱'] == '選修']\n",
        "                general_courses = student_courses[student_courses['課程屬性名稱'] == '通識']\n",
        "\n",
        "                required_average = weighted_average(required_courses)\n",
        "                elective_and_general_average = weighted_average(pd.concat([elective_courses, general_courses]))\n",
        "\n",
        "                if required_average > elective_and_general_average:\n",
        "                    count_required_higher += 1\n",
        "\n",
        "# 最後輸出統計結果\n",
        "print(f\"所有學期和科系中，前5%學生的總人數: {total_top_5_percent_students}\")\n",
        "print(f\"所有學期和科系中，必修課分數大於選修和通識課的學生人數: {count_required_higher}\")\n",
        "\n"
      ],
      "metadata": {
        "colab": {
          "base_uri": "https://localhost:8080/"
        },
        "id": "0GXOfPZNyvX3",
        "outputId": "d0fec626-1df6-4970-c7b8-86d1df629143"
      },
      "execution_count": 26,
      "outputs": [
        {
          "output_type": "stream",
          "name": "stderr",
          "text": [
            "<ipython-input-26-3a581b86371c>:7: RuntimeWarning: invalid value encountered in double_scalars\n",
            "  return (df['成績'] * df['學分數']).sum() / df['學分數'].sum()\n",
            "<ipython-input-26-3a581b86371c>:7: RuntimeWarning: invalid value encountered in double_scalars\n",
            "  return (df['成績'] * df['學分數']).sum() / df['學分數'].sum()\n",
            "<ipython-input-26-3a581b86371c>:7: RuntimeWarning: invalid value encountered in double_scalars\n",
            "  return (df['成績'] * df['學分數']).sum() / df['學分數'].sum()\n",
            "<ipython-input-26-3a581b86371c>:7: RuntimeWarning: invalid value encountered in double_scalars\n",
            "  return (df['成績'] * df['學分數']).sum() / df['學分數'].sum()\n",
            "<ipython-input-26-3a581b86371c>:7: RuntimeWarning: invalid value encountered in double_scalars\n",
            "  return (df['成績'] * df['學分數']).sum() / df['學分數'].sum()\n",
            "<ipython-input-26-3a581b86371c>:7: RuntimeWarning: invalid value encountered in double_scalars\n",
            "  return (df['成績'] * df['學分數']).sum() / df['學分數'].sum()\n",
            "<ipython-input-26-3a581b86371c>:7: RuntimeWarning: invalid value encountered in double_scalars\n",
            "  return (df['成績'] * df['學分數']).sum() / df['學分數'].sum()\n",
            "<ipython-input-26-3a581b86371c>:7: RuntimeWarning: invalid value encountered in double_scalars\n",
            "  return (df['成績'] * df['學分數']).sum() / df['學分數'].sum()\n",
            "<ipython-input-26-3a581b86371c>:7: RuntimeWarning: invalid value encountered in double_scalars\n",
            "  return (df['成績'] * df['學分數']).sum() / df['學分數'].sum()\n",
            "<ipython-input-26-3a581b86371c>:7: RuntimeWarning: invalid value encountered in double_scalars\n",
            "  return (df['成績'] * df['學分數']).sum() / df['學分數'].sum()\n",
            "<ipython-input-26-3a581b86371c>:7: RuntimeWarning: invalid value encountered in double_scalars\n",
            "  return (df['成績'] * df['學分數']).sum() / df['學分數'].sum()\n",
            "<ipython-input-26-3a581b86371c>:7: RuntimeWarning: invalid value encountered in double_scalars\n",
            "  return (df['成績'] * df['學分數']).sum() / df['學分數'].sum()\n",
            "<ipython-input-26-3a581b86371c>:7: RuntimeWarning: invalid value encountered in double_scalars\n",
            "  return (df['成績'] * df['學分數']).sum() / df['學分數'].sum()\n",
            "<ipython-input-26-3a581b86371c>:7: RuntimeWarning: invalid value encountered in double_scalars\n",
            "  return (df['成績'] * df['學分數']).sum() / df['學分數'].sum()\n",
            "<ipython-input-26-3a581b86371c>:7: RuntimeWarning: invalid value encountered in double_scalars\n",
            "  return (df['成績'] * df['學分數']).sum() / df['學分數'].sum()\n",
            "<ipython-input-26-3a581b86371c>:7: RuntimeWarning: invalid value encountered in double_scalars\n",
            "  return (df['成績'] * df['學分數']).sum() / df['學分數'].sum()\n",
            "<ipython-input-26-3a581b86371c>:7: RuntimeWarning: invalid value encountered in double_scalars\n",
            "  return (df['成績'] * df['學分數']).sum() / df['學分數'].sum()\n",
            "<ipython-input-26-3a581b86371c>:7: RuntimeWarning: invalid value encountered in double_scalars\n",
            "  return (df['成績'] * df['學分數']).sum() / df['學分數'].sum()\n",
            "<ipython-input-26-3a581b86371c>:7: RuntimeWarning: invalid value encountered in double_scalars\n",
            "  return (df['成績'] * df['學分數']).sum() / df['學分數'].sum()\n",
            "<ipython-input-26-3a581b86371c>:7: RuntimeWarning: invalid value encountered in double_scalars\n",
            "  return (df['成績'] * df['學分數']).sum() / df['學分數'].sum()\n",
            "<ipython-input-26-3a581b86371c>:7: RuntimeWarning: invalid value encountered in double_scalars\n",
            "  return (df['成績'] * df['學分數']).sum() / df['學分數'].sum()\n",
            "<ipython-input-26-3a581b86371c>:7: RuntimeWarning: invalid value encountered in double_scalars\n",
            "  return (df['成績'] * df['學分數']).sum() / df['學分數'].sum()\n",
            "<ipython-input-26-3a581b86371c>:7: RuntimeWarning: invalid value encountered in double_scalars\n",
            "  return (df['成績'] * df['學分數']).sum() / df['學分數'].sum()\n",
            "<ipython-input-26-3a581b86371c>:7: RuntimeWarning: invalid value encountered in double_scalars\n",
            "  return (df['成績'] * df['學分數']).sum() / df['學分數'].sum()\n",
            "<ipython-input-26-3a581b86371c>:7: RuntimeWarning: invalid value encountered in double_scalars\n",
            "  return (df['成績'] * df['學分數']).sum() / df['學分數'].sum()\n",
            "<ipython-input-26-3a581b86371c>:7: RuntimeWarning: invalid value encountered in double_scalars\n",
            "  return (df['成績'] * df['學分數']).sum() / df['學分數'].sum()\n",
            "<ipython-input-26-3a581b86371c>:7: RuntimeWarning: invalid value encountered in double_scalars\n",
            "  return (df['成績'] * df['學分數']).sum() / df['學分數'].sum()\n",
            "<ipython-input-26-3a581b86371c>:7: RuntimeWarning: invalid value encountered in double_scalars\n",
            "  return (df['成績'] * df['學分數']).sum() / df['學分數'].sum()\n",
            "<ipython-input-26-3a581b86371c>:7: RuntimeWarning: invalid value encountered in double_scalars\n",
            "  return (df['成績'] * df['學分數']).sum() / df['學分數'].sum()\n",
            "<ipython-input-26-3a581b86371c>:7: RuntimeWarning: invalid value encountered in double_scalars\n",
            "  return (df['成績'] * df['學分數']).sum() / df['學分數'].sum()\n",
            "<ipython-input-26-3a581b86371c>:7: RuntimeWarning: invalid value encountered in double_scalars\n",
            "  return (df['成績'] * df['學分數']).sum() / df['學分數'].sum()\n",
            "<ipython-input-26-3a581b86371c>:7: RuntimeWarning: invalid value encountered in double_scalars\n",
            "  return (df['成績'] * df['學分數']).sum() / df['學分數'].sum()\n",
            "<ipython-input-26-3a581b86371c>:7: RuntimeWarning: invalid value encountered in double_scalars\n",
            "  return (df['成績'] * df['學分數']).sum() / df['學分數'].sum()\n",
            "<ipython-input-26-3a581b86371c>:7: RuntimeWarning: invalid value encountered in double_scalars\n",
            "  return (df['成績'] * df['學分數']).sum() / df['學分數'].sum()\n",
            "<ipython-input-26-3a581b86371c>:7: RuntimeWarning: invalid value encountered in double_scalars\n",
            "  return (df['成績'] * df['學分數']).sum() / df['學分數'].sum()\n",
            "<ipython-input-26-3a581b86371c>:7: RuntimeWarning: invalid value encountered in double_scalars\n",
            "  return (df['成績'] * df['學分數']).sum() / df['學分數'].sum()\n",
            "<ipython-input-26-3a581b86371c>:7: RuntimeWarning: invalid value encountered in double_scalars\n",
            "  return (df['成績'] * df['學分數']).sum() / df['學分數'].sum()\n",
            "<ipython-input-26-3a581b86371c>:7: RuntimeWarning: invalid value encountered in double_scalars\n",
            "  return (df['成績'] * df['學分數']).sum() / df['學分數'].sum()\n",
            "<ipython-input-26-3a581b86371c>:7: RuntimeWarning: invalid value encountered in double_scalars\n",
            "  return (df['成績'] * df['學分數']).sum() / df['學分數'].sum()\n",
            "<ipython-input-26-3a581b86371c>:7: RuntimeWarning: invalid value encountered in double_scalars\n",
            "  return (df['成績'] * df['學分數']).sum() / df['學分數'].sum()\n",
            "<ipython-input-26-3a581b86371c>:7: RuntimeWarning: invalid value encountered in double_scalars\n",
            "  return (df['成績'] * df['學分數']).sum() / df['學分數'].sum()\n",
            "<ipython-input-26-3a581b86371c>:7: RuntimeWarning: invalid value encountered in double_scalars\n",
            "  return (df['成績'] * df['學分數']).sum() / df['學分數'].sum()\n",
            "<ipython-input-26-3a581b86371c>:7: RuntimeWarning: invalid value encountered in double_scalars\n",
            "  return (df['成績'] * df['學分數']).sum() / df['學分數'].sum()\n",
            "<ipython-input-26-3a581b86371c>:7: RuntimeWarning: invalid value encountered in double_scalars\n",
            "  return (df['成績'] * df['學分數']).sum() / df['學分數'].sum()\n",
            "<ipython-input-26-3a581b86371c>:7: RuntimeWarning: invalid value encountered in double_scalars\n",
            "  return (df['成績'] * df['學分數']).sum() / df['學分數'].sum()\n",
            "<ipython-input-26-3a581b86371c>:7: RuntimeWarning: invalid value encountered in double_scalars\n",
            "  return (df['成績'] * df['學分數']).sum() / df['學分數'].sum()\n",
            "<ipython-input-26-3a581b86371c>:7: RuntimeWarning: invalid value encountered in double_scalars\n",
            "  return (df['成績'] * df['學分數']).sum() / df['學分數'].sum()\n",
            "<ipython-input-26-3a581b86371c>:7: RuntimeWarning: invalid value encountered in double_scalars\n",
            "  return (df['成績'] * df['學分數']).sum() / df['學分數'].sum()\n",
            "<ipython-input-26-3a581b86371c>:7: RuntimeWarning: invalid value encountered in double_scalars\n",
            "  return (df['成績'] * df['學分數']).sum() / df['學分數'].sum()\n",
            "<ipython-input-26-3a581b86371c>:7: RuntimeWarning: invalid value encountered in double_scalars\n",
            "  return (df['成績'] * df['學分數']).sum() / df['學分數'].sum()\n",
            "<ipython-input-26-3a581b86371c>:7: RuntimeWarning: invalid value encountered in double_scalars\n",
            "  return (df['成績'] * df['學分數']).sum() / df['學分數'].sum()\n",
            "<ipython-input-26-3a581b86371c>:7: RuntimeWarning: invalid value encountered in double_scalars\n",
            "  return (df['成績'] * df['學分數']).sum() / df['學分數'].sum()\n",
            "<ipython-input-26-3a581b86371c>:7: RuntimeWarning: invalid value encountered in double_scalars\n",
            "  return (df['成績'] * df['學分數']).sum() / df['學分數'].sum()\n",
            "<ipython-input-26-3a581b86371c>:7: RuntimeWarning: invalid value encountered in double_scalars\n",
            "  return (df['成績'] * df['學分數']).sum() / df['學分數'].sum()\n",
            "<ipython-input-26-3a581b86371c>:7: RuntimeWarning: invalid value encountered in double_scalars\n",
            "  return (df['成績'] * df['學分數']).sum() / df['學分數'].sum()\n",
            "<ipython-input-26-3a581b86371c>:7: RuntimeWarning: invalid value encountered in double_scalars\n",
            "  return (df['成績'] * df['學分數']).sum() / df['學分數'].sum()\n",
            "<ipython-input-26-3a581b86371c>:7: RuntimeWarning: invalid value encountered in double_scalars\n",
            "  return (df['成績'] * df['學分數']).sum() / df['學分數'].sum()\n",
            "<ipython-input-26-3a581b86371c>:7: RuntimeWarning: invalid value encountered in double_scalars\n",
            "  return (df['成績'] * df['學分數']).sum() / df['學分數'].sum()\n",
            "<ipython-input-26-3a581b86371c>:7: RuntimeWarning: invalid value encountered in double_scalars\n",
            "  return (df['成績'] * df['學分數']).sum() / df['學分數'].sum()\n",
            "<ipython-input-26-3a581b86371c>:7: RuntimeWarning: invalid value encountered in double_scalars\n",
            "  return (df['成績'] * df['學分數']).sum() / df['學分數'].sum()\n",
            "<ipython-input-26-3a581b86371c>:7: RuntimeWarning: invalid value encountered in double_scalars\n",
            "  return (df['成績'] * df['學分數']).sum() / df['學分數'].sum()\n",
            "<ipython-input-26-3a581b86371c>:7: RuntimeWarning: invalid value encountered in double_scalars\n",
            "  return (df['成績'] * df['學分數']).sum() / df['學分數'].sum()\n",
            "<ipython-input-26-3a581b86371c>:7: RuntimeWarning: invalid value encountered in double_scalars\n",
            "  return (df['成績'] * df['學分數']).sum() / df['學分數'].sum()\n",
            "<ipython-input-26-3a581b86371c>:7: RuntimeWarning: invalid value encountered in double_scalars\n",
            "  return (df['成績'] * df['學分數']).sum() / df['學分數'].sum()\n",
            "<ipython-input-26-3a581b86371c>:7: RuntimeWarning: invalid value encountered in double_scalars\n",
            "  return (df['成績'] * df['學分數']).sum() / df['學分數'].sum()\n",
            "<ipython-input-26-3a581b86371c>:7: RuntimeWarning: invalid value encountered in double_scalars\n",
            "  return (df['成績'] * df['學分數']).sum() / df['學分數'].sum()\n",
            "<ipython-input-26-3a581b86371c>:7: RuntimeWarning: invalid value encountered in double_scalars\n",
            "  return (df['成績'] * df['學分數']).sum() / df['學分數'].sum()\n",
            "<ipython-input-26-3a581b86371c>:7: RuntimeWarning: invalid value encountered in double_scalars\n",
            "  return (df['成績'] * df['學分數']).sum() / df['學分數'].sum()\n",
            "<ipython-input-26-3a581b86371c>:7: RuntimeWarning: invalid value encountered in double_scalars\n",
            "  return (df['成績'] * df['學分數']).sum() / df['學分數'].sum()\n",
            "<ipython-input-26-3a581b86371c>:7: RuntimeWarning: invalid value encountered in double_scalars\n",
            "  return (df['成績'] * df['學分數']).sum() / df['學分數'].sum()\n",
            "<ipython-input-26-3a581b86371c>:7: RuntimeWarning: invalid value encountered in double_scalars\n",
            "  return (df['成績'] * df['學分數']).sum() / df['學分數'].sum()\n",
            "<ipython-input-26-3a581b86371c>:7: RuntimeWarning: invalid value encountered in double_scalars\n",
            "  return (df['成績'] * df['學分數']).sum() / df['學分數'].sum()\n",
            "<ipython-input-26-3a581b86371c>:7: RuntimeWarning: invalid value encountered in double_scalars\n",
            "  return (df['成績'] * df['學分數']).sum() / df['學分數'].sum()\n",
            "<ipython-input-26-3a581b86371c>:7: RuntimeWarning: invalid value encountered in double_scalars\n",
            "  return (df['成績'] * df['學分數']).sum() / df['學分數'].sum()\n",
            "<ipython-input-26-3a581b86371c>:7: RuntimeWarning: invalid value encountered in double_scalars\n",
            "  return (df['成績'] * df['學分數']).sum() / df['學分數'].sum()\n",
            "<ipython-input-26-3a581b86371c>:7: RuntimeWarning: invalid value encountered in double_scalars\n",
            "  return (df['成績'] * df['學分數']).sum() / df['學分數'].sum()\n",
            "<ipython-input-26-3a581b86371c>:7: RuntimeWarning: invalid value encountered in double_scalars\n",
            "  return (df['成績'] * df['學分數']).sum() / df['學分數'].sum()\n",
            "<ipython-input-26-3a581b86371c>:7: RuntimeWarning: invalid value encountered in double_scalars\n",
            "  return (df['成績'] * df['學分數']).sum() / df['學分數'].sum()\n",
            "<ipython-input-26-3a581b86371c>:7: RuntimeWarning: invalid value encountered in double_scalars\n",
            "  return (df['成績'] * df['學分數']).sum() / df['學分數'].sum()\n",
            "<ipython-input-26-3a581b86371c>:7: RuntimeWarning: invalid value encountered in double_scalars\n",
            "  return (df['成績'] * df['學分數']).sum() / df['學分數'].sum()\n",
            "<ipython-input-26-3a581b86371c>:7: RuntimeWarning: invalid value encountered in double_scalars\n",
            "  return (df['成績'] * df['學分數']).sum() / df['學分數'].sum()\n",
            "<ipython-input-26-3a581b86371c>:7: RuntimeWarning: invalid value encountered in double_scalars\n",
            "  return (df['成績'] * df['學分數']).sum() / df['學分數'].sum()\n"
          ]
        },
        {
          "output_type": "stream",
          "name": "stdout",
          "text": [
            "所有學期和科系中，前5%學生的總人數: 2342\n",
            "所有學期和科系中，必修課分數大於選修和通識課的學生人數: 1050\n"
          ]
        },
        {
          "output_type": "stream",
          "name": "stderr",
          "text": [
            "<ipython-input-26-3a581b86371c>:7: RuntimeWarning: invalid value encountered in double_scalars\n",
            "  return (df['成績'] * df['學分數']).sum() / df['學分數'].sum()\n"
          ]
        }
      ]
    }
  ]
}